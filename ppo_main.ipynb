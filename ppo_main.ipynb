{
 "cells": [
  {
   "cell_type": "code",
   "execution_count": 1,
   "id": "84b04bfe",
   "metadata": {},
   "outputs": [],
   "source": [
    "import numpy as np\n",
    "import gym\n",
    "gym.logger.set_level(40)\n",
    "\n",
    "from ppo import PPO\n",
    "from test_policy import test_policy, plot_animation\n",
    "\n",
    "%load_ext autoreload\n",
    "%autoreload 2\n",
    "%matplotlib inline"
   ]
  },
  {
   "cell_type": "code",
   "execution_count": 2,
   "id": "53bac071",
   "metadata": {},
   "outputs": [],
   "source": [
    "#env = gym.make('BipedalWalker-v3')\n",
    "env = gym.make('LunarLanderContinuous-v2')\n",
    "model = PPO(env=env)\n",
    "policy = model.actor"
   ]
  },
  {
   "cell_type": "code",
   "execution_count": 3,
   "id": "1a000757",
   "metadata": {},
   "outputs": [
    {
     "name": "stdout",
     "output_type": "stream",
     "text": [
      "55 -112.71042926771281\n"
     ]
    }
   ],
   "source": [
    "ep_len, ep_ret, frames = test_policy(policy, env, render = False)\n",
    "print(ep_len, ep_ret)"
   ]
  },
  {
   "cell_type": "code",
   "execution_count": null,
   "id": "372270c2",
   "metadata": {},
   "outputs": [
    {
     "name": "stdout",
     "output_type": "stream",
     "text": [
      "actor_loss tensor(-0.0069) last return tensor(-100.) t_so_far 4864 / 500000\n",
      "actor_loss tensor(-0.0065) last return tensor(-100.) t_so_far 9670 / 500000\n",
      "actor_loss tensor(-0.0023) last return tensor(-10.5741) t_so_far 15422 / 500000\n",
      "actor_loss tensor(-0.0053) last return tensor(-100.) t_so_far 20241 / 500000\n",
      "actor_loss tensor(-0.0038) last return tensor(-100.) t_so_far 25100 / 500000\n",
      "actor_loss tensor(-0.0049) last return tensor(-100.) t_so_far 30015 / 500000\n",
      "actor_loss tensor(-0.0056) last return tensor(-100.) t_so_far 34916 / 500000\n",
      "actor_loss tensor(-0.0065) last return tensor(-100.) t_so_far 39804 / 500000\n",
      "actor_loss tensor(-0.0067) last return tensor(-100.) t_so_far 44666 / 500000\n",
      "actor_loss tensor(-0.0056) last return tensor(-100.) t_so_far 49560 / 500000\n",
      "actor_loss tensor(-0.0047) last return tensor(0.3658) t_so_far 54627 / 500000\n",
      "actor_loss tensor(-0.0062) last return tensor(-0.0534) t_so_far 60399 / 500000\n"
     ]
    }
   ],
   "source": [
    "model.learn(total_timesteps=500_000, track_progress = True)"
   ]
  },
  {
   "cell_type": "code",
   "execution_count": null,
   "id": "ad153449",
   "metadata": {},
   "outputs": [],
   "source": [
    "ep_len, ep_ret, frames = test_policy(policy, env, render = True)\n",
    "print(ep_len, ep_ret)"
   ]
  },
  {
   "cell_type": "code",
   "execution_count": null,
   "id": "e2c59fd9",
   "metadata": {},
   "outputs": [],
   "source": [
    "plot_animation(frames)"
   ]
  },
  {
   "cell_type": "code",
   "execution_count": null,
   "id": "a6053708",
   "metadata": {},
   "outputs": [],
   "source": []
  }
 ],
 "metadata": {
  "kernelspec": {
   "display_name": "Python 3",
   "language": "python",
   "name": "python3"
  },
  "language_info": {
   "codemirror_mode": {
    "name": "ipython",
    "version": 3
   },
   "file_extension": ".py",
   "mimetype": "text/x-python",
   "name": "python",
   "nbconvert_exporter": "python",
   "pygments_lexer": "ipython3",
   "version": "3.8.2"
  }
 },
 "nbformat": 4,
 "nbformat_minor": 5
}
